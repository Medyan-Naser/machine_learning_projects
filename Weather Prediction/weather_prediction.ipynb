{
 "cells": [
  {
   "cell_type": "code",
   "execution_count": 1,
   "id": "408bdb37",
   "metadata": {},
   "outputs": [
    {
     "ename": "SyntaxError",
     "evalue": "unterminated string literal (detected at line 2) (4129762168.py, line 2)",
     "output_type": "error",
     "traceback": [
      "  \u001b[36mCell\u001b[39m\u001b[36m \u001b[39m\u001b[32mIn[1]\u001b[39m\u001b[32m, line 2\u001b[39m\n\u001b[31m    \u001b[39m\u001b[31mThe original source of the data is Australian Government's Bureau of Meteorology and the latest data can be gathered from [http://www.bom.gov.au/climate/dwo/](http://www.bom.gov.au/climate/dwo/?utm_medium=Exinfluencer&utm_source=Exinfluencer&utm_content=000026UJ&utm_term=10006555&utm_id=NA-SkillsNetwork-Channel-SkillsNetworkCoursesIBMDeveloperSkillsNetworkML0101ENSkillsNetwork20718538-2022-01-01).\u001b[39m\n                                                            ^\n\u001b[31mSyntaxError\u001b[39m\u001b[31m:\u001b[39m unterminated string literal (detected at line 2)\n"
     ]
    }
   ],
   "source": [
    "# About The Dataset\n",
    "The original source of the data is Australian Government's Bureau of Meteorology and the latest data can be gathered from [http://www.bom.gov.au/climate/dwo/](http://www.bom.gov.au/climate/dwo/?utm_medium=Exinfluencer&utm_source=Exinfluencer&utm_content=000026UJ&utm_term=10006555&utm_id=NA-SkillsNetwork-Channel-SkillsNetworkCoursesIBMDeveloperSkillsNetworkML0101ENSkillsNetwork20718538-2022-01-01).\n",
    "\n",
    "The dataset you'll use in this project was downloaded from Kaggle at [https://www.kaggle.com/datasets/jsphyg/weather-dataset-rattle-package/](https://www.kaggle.com/datasets/jsphyg/weather-dataset-rattle-package?resource=download&select=weatherAUS.csv)  \n",
    "Column definitions were gathered from [http://www.bom.gov.au/climate/dwo/IDCJDW0000.shtml](http://www.bom.gov.au/climate/dwo/IDCJDW0000.shtml?utm_medium=Exinfluencer&utm_source=Exinfluencer&utm_content=000026UJ&utm_term=10006555&utm_id=NA-SkillsNetwork-Channel-SkillsNetworkCoursesIBMDeveloperSkillsNetworkML0101ENSkillsNetwork20718538-2022-01-01)  \n",
    "\n",
    "The dataset contains observations of weather metrics for each day from 2008 to 2017, and includes the following fields:\n",
    "\n",
    "| Field         | Description                                           | Unit            | Type   |\n",
    "| :------------ | :---------------------------------------------------- | :-------------- | :----- |\n",
    "| Date          | Date of the Observation in YYYY-MM-DD                 | Date            | object |\n",
    "| Location      | Location of the Observation                           | Location        | object |\n",
    "| MinTemp       | Minimum temperature                                   | Celsius         | float  |\n",
    "| MaxTemp       | Maximum temperature                                   | Celsius         | float  |\n",
    "| Rainfall      | Amount of rainfall                                    | Millimeters     | float  |\n",
    "| Evaporation   | Amount of evaporation                                 | Millimeters     | float  |\n",
    "| Sunshine      | Amount of bright sunshine                             | hours           | float  |\n",
    "| WindGustDir   | Direction of the strongest gust                       | Compass Points  | object |\n",
    "| WindGustSpeed | Speed of the strongest gust                           | Kilometers/Hour | object |\n",
    "| WindDir9am    | Wind direction averaged over 10 minutes prior to 9am  | Compass Points  | object |\n",
    "| WindDir3pm    | Wind direction averaged over 10 minutes prior to 3pm  | Compass Points  | object |\n",
    "| WindSpeed9am  | Wind speed averaged over 10 minutes prior to 9am      | Kilometers/Hour | float  |\n",
    "| WindSpeed3pm  | Wind speed averaged over 10 minutes prior to 3pm      | Kilometers/Hour | float  |\n",
    "| Humidity9am   | Humidity at 9am                                       | Percent         | float  |\n",
    "| Humidity3pm   | Humidity at 3pm                                       | Percent         | float  |\n",
    "| Pressure9am   | Atmospheric pressure reduced to mean sea level at 9am | Hectopascal     | float  |\n",
    "| Pressure3pm   | Atmospheric pressure reduced to mean sea level at 3pm | Hectopascal     | float  |\n",
    "| Cloud9am      | Fraction of the sky obscured by cloud at 9am          | Eights          | float  |\n",
    "| Cloud3pm      | Fraction of the sky obscured by cloud at 3pm          | Eights          | float  |\n",
    "| Temp9am       | Temperature at 9am                                    | Celsius         | float  |\n",
    "| Temp3pm       | Temperature at 3pm                                    | Celsius         | float  |\n",
    "| RainToday     | If there was at least 1mm of rain today               | Yes/No          | object |\n",
    "| RainTomorrow  | If there is at least 1mm of rain tomorrow             | Yes/No          | object |\n",
    "\n"
   ]
  },
  {
   "cell_type": "code",
   "execution_count": null,
   "id": "e9fe131c",
   "metadata": {},
   "outputs": [],
   "source": [
    "!pip install numpy\n",
    "!pip install pandas\n",
    "!pip install matplotlib\n",
    "!pip install scikit-learn\n",
    "!pip install seaborn"
   ]
  },
  {
   "cell_type": "markdown",
   "id": "62c34615",
   "metadata": {},
   "source": []
  },
  {
   "cell_type": "code",
   "execution_count": null,
   "id": "5cfff9da",
   "metadata": {},
   "outputs": [],
   "source": [
    "import pandas as pd\n",
    "import matplotlib.pyplot as plt\n",
    "from sklearn.compose import ColumnTransformer\n",
    "from sklearn.pipeline import Pipeline\n",
    "from sklearn.preprocessing import StandardScaler, OneHotEncoder\n",
    "from sklearn.model_selection import train_test_split, GridSearchCV, StratifiedKFold\n",
    "from sklearn.ensemble import RandomForestClassifier\n",
    "from sklearn.linear_model import LogisticRegression\n",
    "from sklearn.metrics import classification_report, confusion_matrix, ConfusionMatrixDisplay\n",
    "import seaborn as sns"
   ]
  },
  {
   "cell_type": "code",
   "execution_count": null,
   "id": "deb76e46",
   "metadata": {},
   "outputs": [],
   "source": [
    "url=\"https://cf-courses-data.s3.us.cloud-object-storage.appdomain.cloud/_0eYOqji3unP1tDNKWZMjg/weatherAUS-2.csv\"\n",
    "df = pd.read_csv(url)\n",
    "df.head()"
   ]
  },
  {
   "cell_type": "code",
   "execution_count": null,
   "id": "fd5fa596",
   "metadata": {},
   "outputs": [],
   "source": [
    "df.count()"
   ]
  },
  {
   "cell_type": "code",
   "execution_count": null,
   "id": "a193c477",
   "metadata": {},
   "outputs": [],
   "source": [
    "# Drop rows with missing values\n",
    "df = df.dropna()\n",
    "df.info()"
   ]
  },
  {
   "cell_type": "code",
   "execution_count": null,
   "id": "5dc2d03a",
   "metadata": {},
   "outputs": [],
   "source": [
    "df.columns"
   ]
  },
  {
   "cell_type": "code",
   "execution_count": null,
   "id": "f589eace",
   "metadata": {},
   "outputs": [],
   "source": [
    "df = df.rename(columns={'RainToday': 'RainYesterday',\n",
    "                        'RainTomorrow': 'RainToday'\n",
    "                        })"
   ]
  },
  {
   "cell_type": "code",
   "execution_count": null,
   "id": "3c69ed16",
   "metadata": {},
   "outputs": [],
   "source": [
    "# location selection\n",
    "df = df[df.Location.isin(['Melbourne','MelbourneAirport','Watsonia',])]\n",
    "df. info()"
   ]
  },
  {
   "cell_type": "code",
   "execution_count": null,
   "id": "e0a643f8",
   "metadata": {},
   "outputs": [],
   "source": [
    "def date_to_season(date):\n",
    "    month = date.month\n",
    "    if (month == 12) or (month == 1) or (month == 2):\n",
    "        return 'Summer'\n",
    "    elif (month == 3) or (month == 4) or (month == 5):\n",
    "        return 'Autumn'\n",
    "    elif (month == 6) or (month == 7) or (month == 8):\n",
    "        return 'Winter'\n",
    "    elif (month == 9) or (month == 10) or (month == 11):\n",
    "        return 'Spring'"
   ]
  },
  {
   "cell_type": "code",
   "execution_count": null,
   "id": "a5bd7c4f",
   "metadata": {},
   "outputs": [],
   "source": [
    "# Map the dates to seasons and drop the Date column\n",
    "df['Date'] = pd.to_datetime(df['Date'])\n",
    "df['Season'] = df['Date'].apply(date_to_season)\n",
    "df = df.drop(columns=['Date'])\n",
    "df"
   ]
  },
  {
   "cell_type": "code",
   "execution_count": null,
   "id": "2e26cee5",
   "metadata": {},
   "outputs": [],
   "source": [
    "# Define features and target\n",
    "X = df.drop(columns='RainToday', axis=1)\n",
    "y = df['RainToday']"
   ]
  },
  {
   "cell_type": "code",
   "execution_count": null,
   "id": "9cd0d46d",
   "metadata": {},
   "outputs": [],
   "source": [
    "# Show class distribution to check for balance\n",
    "print(y.value_counts())\n",
    "print(\"\\nProportion of each class:\")\n",
    "print(y.value_counts(normalize=True))\n",
    "\n",
    "# Plot the distribution\n",
    "y.value_counts().plot(kind='bar', color=['skyblue', 'salmon'])\n",
    "plt.title('Distribution of RainTomorrow')\n",
    "plt.xlabel('Rain Tomorrow')\n",
    "plt.ylabel('Count')\n",
    "plt.xticks(rotation=0)\n",
    "plt.grid(axis='y', linestyle='--', alpha=0.7)\n",
    "plt.show()"
   ]
  },
  {
   "cell_type": "code",
   "execution_count": null,
   "id": "afc8497c",
   "metadata": {},
   "outputs": [],
   "source": [
    "# WSplit the data\n",
    "X_train, X_test, y_train, y_test = train_test_split(\n",
    "    X, y,\n",
    "    test_size=0.2,\n",
    "    stratify=y,\n",
    "    random_state=42\n",
    ")"
   ]
  },
  {
   "cell_type": "code",
   "execution_count": null,
   "id": "1e1a63f4",
   "metadata": {},
   "outputs": [],
   "source": [
    "\n",
    "# Detect numeric columns\n",
    "numeric_features = X_train.select_dtypes(include=['int64', 'float64']).columns.tolist()\n",
    "\n",
    "# Detect categorical columns (includes object and category types)\n",
    "categorical_features = X_train.select_dtypes(include=['object', 'category']).columns.tolist()\n"
   ]
  },
  {
   "cell_type": "code",
   "execution_count": null,
   "id": "43e85a2e",
   "metadata": {},
   "outputs": [],
   "source": [
    "# Scale the numeric features\n",
    "numeric_transformer = Pipeline(steps=[('scaler', StandardScaler())])\n",
    "\n",
    "# One-hot encode the categoricals \n",
    "categorical_transformer = Pipeline(steps=[('onehot', OneHotEncoder(handle_unknown='ignore'))])"
   ]
  },
  {
   "cell_type": "code",
   "execution_count": null,
   "id": "ece280ad",
   "metadata": {},
   "outputs": [],
   "source": [
    "preprocessor = ColumnTransformer(\n",
    "    transformers=[\n",
    "        ('num', numeric_transformer, numeric_features),\n",
    "        ('cat', categorical_transformer, categorical_features)\n",
    "    ]\n",
    ")"
   ]
  },
  {
   "cell_type": "code",
   "execution_count": null,
   "id": "9bcbc12b",
   "metadata": {},
   "outputs": [],
   "source": [
    "pipeline = Pipeline(steps=[\n",
    "    ('preprocessor', preprocessor),\n",
    "    ('classifier', RandomForestClassifier(random_state=42))\n",
    "])"
   ]
  },
  {
   "cell_type": "code",
   "execution_count": null,
   "id": "4dc6aaba",
   "metadata": {},
   "outputs": [],
   "source": [
    "param_grid = {\n",
    "    'classifier__n_estimators': [50, 100],\n",
    "    'classifier__max_depth': [None, 10, 20],\n",
    "    'classifier__min_samples_split': [2, 5]\n",
    "}"
   ]
  },
  {
   "cell_type": "code",
   "execution_count": null,
   "id": "e4b4349b",
   "metadata": {},
   "outputs": [],
   "source": [
    "cv = StratifiedKFold(n_splits=5, shuffle=True)"
   ]
  },
  {
   "cell_type": "code",
   "execution_count": null,
   "id": "4e8dbaed",
   "metadata": {},
   "outputs": [],
   "source": [
    "grid_search = GridSearchCV(\n",
    "    pipeline,              # the pipeline you created\n",
    "    param_grid,            # the hyperparameter grid\n",
    "    cv=5,                  # 5-fold cross-validation\n",
    "    scoring='accuracy',    # scoring metric\n",
    "    verbose=2              # shows progress output\n",
    ")\n",
    "\n",
    "# Fit the model\n",
    "grid_search.fit(X_train, y_train)"
   ]
  },
  {
   "cell_type": "code",
   "execution_count": null,
   "id": "bfca5020",
   "metadata": {},
   "outputs": [],
   "source": [
    "print(\"\\nBest parameters found: \", grid_search.best_params_)\n",
    "print(\"Best cross-validation score: {:.2f}\".format(grid_search.best_score_))"
   ]
  },
  {
   "cell_type": "code",
   "execution_count": null,
   "id": "2528d81f",
   "metadata": {},
   "outputs": [],
   "source": [
    "test_score = grid_search.score(X_test, y_test)\n",
    "print(\"Test set score: {:.2f}\".format(test_score))"
   ]
  },
  {
   "cell_type": "code",
   "execution_count": null,
   "id": "b9f87e28",
   "metadata": {},
   "outputs": [],
   "source": [
    "y_pred = grid_search.predict(X_test)\n"
   ]
  },
  {
   "cell_type": "code",
   "execution_count": null,
   "id": "1e1af42c",
   "metadata": {},
   "outputs": [],
   "source": [
    "print(\"\\nClassification Report:\")\n",
    "print(classification_report(y_test, y_pred))"
   ]
  },
  {
   "cell_type": "code",
   "execution_count": null,
   "id": "812f654f",
   "metadata": {},
   "outputs": [],
   "source": [
    "conf_matrix = confusion_matrix(y_test, y_pred)\n",
    "disp = ConfusionMatrixDisplay(confusion_matrix=conf_matrix)\n",
    "disp.plot(cmap='Blues')\n",
    "plt.title('Confusion Matrix')\n",
    "plt.show()"
   ]
  },
  {
   "cell_type": "code",
   "execution_count": null,
   "id": "9c29ed6f",
   "metadata": {},
   "outputs": [],
   "source": [
    "feature_importances = grid_search.best_estimator_['classifier'].feature_importances_\n"
   ]
  },
  {
   "cell_type": "code",
   "execution_count": null,
   "id": "0325aab1",
   "metadata": {},
   "outputs": [],
   "source": [
    "# Combine numeric and categorical feature names\n",
    "feature_names = numeric_features + list(grid_search.best_estimator_['preprocessor']\n",
    "                                        .named_transformers_['cat']\n",
    "                                        .named_steps['onehot']\n",
    "                                        .get_feature_names_out(categorical_features))\n",
    "\n",
    "feature_importances = grid_search.best_estimator_['classifier'].feature_importances_\n",
    "\n",
    "importance_df = pd.DataFrame({'Feature': feature_names,\n",
    "                              'Importance': feature_importances\n",
    "                             }).sort_values(by='Importance', ascending=False)\n",
    "\n",
    "N = 20  # Change this number to display more or fewer features\n",
    "top_features = importance_df.head(N)\n",
    "\n",
    "# Plotting\n",
    "plt.figure(figsize=(10, 6))\n",
    "plt.barh(top_features['Feature'], top_features['Importance'], color='skyblue')\n",
    "plt.gca().invert_yaxis()  # Invert y-axis to show the most important feature on top\n",
    "plt.title(f'Top {N} Most Important Features in predicting whether it will rain today')\n",
    "plt.xlabel('Importance Score')\n",
    "plt.show()"
   ]
  },
  {
   "cell_type": "code",
   "execution_count": null,
   "id": "12baa6cf",
   "metadata": {},
   "outputs": [],
   "source": []
  },
  {
   "cell_type": "code",
   "execution_count": null,
   "id": "5b803139",
   "metadata": {},
   "outputs": [],
   "source": []
  },
  {
   "cell_type": "code",
   "execution_count": null,
   "id": "7357df7d",
   "metadata": {},
   "outputs": [],
   "source": []
  }
 ],
 "metadata": {
  "kernelspec": {
   "display_name": "base",
   "language": "python",
   "name": "python3"
  },
  "language_info": {
   "codemirror_mode": {
    "name": "ipython",
    "version": 3
   },
   "file_extension": ".py",
   "mimetype": "text/x-python",
   "name": "python",
   "nbconvert_exporter": "python",
   "pygments_lexer": "ipython3",
   "version": "3.12.9"
  }
 },
 "nbformat": 4,
 "nbformat_minor": 5
}
