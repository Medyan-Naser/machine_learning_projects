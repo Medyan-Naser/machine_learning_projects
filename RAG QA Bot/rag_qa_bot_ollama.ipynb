{
 "cells": [
  {
   "cell_type": "markdown",
   "metadata": {},
   "source": [
    "# 🧠 Local RAG QA Bot (Ollama + LangChain + ChromaDB)\n",
    "This notebook runs a local Retrieval-Augmented Generation (RAG) chatbot using open-source components — no API keys, no internet required.\n",
    "\n",
    "**Components used:**\n",
    "- LangChain\n",
    "- ChromaDB\n",
    "- Ollama (local LLM runner)\n",
    "- sentence-transformers for embeddings\n",
    "\n",
    "**Tested on macOS (M-series & Intel) with Python 3.10+.**"
   ]
  },
  {
   "cell_type": "code",
   "execution_count": null,
   "metadata": {},
   "outputs": [],
   "source": [
    "!pip install langchain chromadb pypdf sentence-transformers ollama --quiet"
   ]
  },
  {
   "cell_type": "code",
   "execution_count": null,
   "metadata": {},
   "outputs": [],
   "source": [
    "from langchain.document_loaders import PyPDFLoader, TextLoader\n",
    "from langchain.text_splitter import RecursiveCharacterTextSplitter\n",
    "from langchain.vectorstores import Chroma\n",
    "from langchain.embeddings import SentenceTransformerEmbeddings\n",
    "from langchain.chains import RetrievalQA\n",
    "from langchain.llms import Ollama\n",
    "import os\n",
    "print('✅ Libraries loaded successfully')"
   ]
  },
  {
   "cell_type": "markdown",
   "metadata": {},
   "source": [
    "## Step 1 — Load your document(s)\n",
    "You can provide a path to any PDF or `.txt` file(s)."
   ]
  },
  {
   "cell_type": "code",
   "execution_count": null,
   "metadata": {},
   "outputs": [],
   "source": [
    "file_path = input('Enter path to your document (PDF or TXT): ').strip()\n",
    "\n",
    "if file_path.endswith('.pdf'):\n",
    "    loader = PyPDFLoader(file_path)\n",
    "elif file_path.endswith('.txt'):\n",
    "    loader = TextLoader(file_path)\n",
    "else:\n",
    "    raise ValueError('Please provide a .pdf or .txt file.')\n",
    "\n",
    "documents = loader.load()\n",
    "print(f'✅ Loaded {len(documents)} pages from {file_path}')"
   ]
  },
  {
   "cell_type": "markdown",
   "metadata": {},
   "source": [
    "## Step 2 — Split into chunks & create embeddings"
   ]
  },
  {
   "cell_type": "code",
   "execution_count": null,
   "metadata": {},
   "outputs": [],
   "source": [
    "splitter = RecursiveCharacterTextSplitter(chunk_size=1000, chunk_overlap=200)\n",
    "texts = splitter.split_documents(documents)\n",
    "print(f'✅ Split into {len(texts)} chunks')\n",
    "\n",
    "embedding_model = SentenceTransformerEmbeddings(model_name='all-MiniLM-L6-v2')\n",
    "vectordb = Chroma.from_documents(texts, embedding=embedding_model, persist_directory='db')\n",
    "retriever = vectordb.as_retriever(search_kwargs={'k': 3})\n",
    "print('✅ Vector database built and ready!')"
   ]
  },
  {
   "cell_type": "markdown",
   "metadata": {},
   "source": [
    "## Step 3 — Initialize Local Ollama Model"
   ]
  },
  {
   "cell_type": "code",
   "execution_count": null,
   "metadata": {},
   "outputs": [],
   "source": [
    "model_name = input('Enter Ollama model name (default: llama3): ').strip() or 'llama3'\n",
    "llm = Ollama(model=model_name)\n",
    "qa_chain = RetrievalQA.from_chain_type(llm=llm, retriever=retriever)\n",
    "print(f'✅ Using local Ollama model: {model_name}')"
   ]
  },
  {
   "cell_type": "markdown",
   "metadata": {},
   "source": [
    "## Step 4 — Ask Questions"
   ]
  },
  {
   "cell_type": "code",
   "execution_count": null,
   "metadata": {},
   "outputs": [],
   "source": [
    "print('💬 Ask questions about your document. Type exit() to quit.')\n",
    "while True:\n",
    "    query = input('Question: ')\n",
    "    if query.lower() in ['exit', 'quit', 'q']:\n",
    "        print('👋 Goodbye!')\n",
    "        break\n",
    "    answer = qa_chain.run(query)\n",
    "    print('Answer:', answer)"
   ]
  }
 ],
 "metadata": {
  "kernelspec": {
   "display_name": "base",
   "language": "python",
   "name": "python3"
  },
  "language_info": {
   "codemirror_mode": {
    "name": "ipython",
    "version": 3
   },
   "file_extension": ".py",
   "mimetype": "text/x-python",
   "name": "python",
   "nbconvert_exporter": "python",
   "pygments_lexer": "ipython3",
   "version": "3.12.9"
  }
 },
 "nbformat": 4,
 "nbformat_minor": 5
}
